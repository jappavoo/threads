{
 "cells": [
  {
   "cell_type": "code",
   "execution_count": 14,
   "id": "8f6f776c-f632-4f93-a313-5340a8d9803c",
   "metadata": {
    "tags": []
   },
   "outputs": [],
   "source": [
    "import matplotlib.pyplot as plt\n",
    "import pandas as pd\n",
    "import numpy as np\n",
    "%matplotlib inline\n",
    "pd.set_option(\"display.max.columns\", None)"
   ]
  },
  {
   "cell_type": "code",
   "execution_count": 15,
   "id": "5b1404f6-3fc0-4a78-a776-cb56b3be3b0f",
   "metadata": {
    "tags": []
   },
   "outputs": [],
   "source": [
    "# TSC Value obtained with: sudo bpftrace -e 'BEGIN { printf(\"%u\\n\", *kaddr(\"tsc_khz\")); exit(); }\n",
    "TSC={}\n",
    "TSC[\"fedora_i9\"]=2400023 \n",
    "# time_in_nanoseconds = (tsc_count_end - tsc_count_start) * tsc_frequency\n",
    "results = {}\n",
    "\n",
    "# time in seconds\n",
    "def time(value,m):\n",
    "    return (value * TSC[m])/1000000000\n",
    "\n",
    "def processData(WORK=[\"NULLLOOP\", \"NOPLOOP\", \"4NOPLOOP\"], \n",
    "                CPU0S=[3,7], CPU1S=[17,46], \n",
    "                MACHINES=[\"fedora_i9\"], \n",
    "                DATES=[\"17-11-22:13:17:15\"], \n",
    "                TYPES=[\"LOCAL_WORK\", \"LOCAL_WORK_NO_SERVERTHREAD\",\"LOCAL_WORK_WITH_REMOTE_READ_SHARED\",\n",
    "                       \"LOCAL_WORK_WITH_REMOTE_RW_SHARED\",\"REMOTE_WORK_READ_SHARED\",\"REMOTE_WORK_RW_SHARED\"],\n",
    "                COUNTS=[100, 200, 400, 800, 1600, 3200, 6400, 12800, 25600, 51200],\n",
    "                VERBOSE=False):\n",
    "    for W in WORK:\n",
    "        for CPU0 in CPU0S:\n",
    "            for CPU1 in CPU1S:\n",
    "                for MACHINE in MACHINES:\n",
    "                    for DATE in DATES:\n",
    "                        for TYPE in TYPES:\n",
    "                            KEY=MACHINE+\"-\"+str(CPU0)+\",\"+str(CPU1)+\"-\"+W+\"-\"+TYPE\n",
    "                            results[KEY] =  pd.DataFrame(columns=['count','ctime','wtime','cerr','werr'])\n",
    "                            for COUNT in COUNTS:\n",
    "                                FILE=\"data/\"+MACHINE+\"/\"+DATE+\"/bm.\"+W+\"_\"+TYPE+\"_\"+str(COUNT)+\"_\"+str(CPU0)+\"_\"+str(CPU1)+\".times\"\n",
    "                                if VERBOSE:\n",
    "                                    print(\"processing:\" + FILE)\n",
    "                                data=pd.read_csv(FILE)\n",
    "                                count=data['count'][0]\n",
    "                                cpu0=data['cpu0'][0]\n",
    "                                cpu1=data['cpu1'][0]\n",
    "                                data['pctime']=time(data['ctime']/count, MACHINE)\n",
    "                                data['pwtime']=time(data['wtime']/count, MACHINE)\n",
    "                                minCtime=time(data['pctime'].min(), MACHINE)\n",
    "                                maxCtime=time(data['pctime'].max(), MACHINE)\n",
    "                                meanCtime=time(data['pctime'].mean(), MACHINE)\n",
    "                                errCtime=np.array([meanCtime - minCtime, maxCtime - meanCtime])\n",
    "                                minWtime=time(data['pwtime'].min(),MACHINE)\n",
    "                                maxWtime=time(data['pwtime'].max(),MACHINE)\n",
    "                                meanWtime=time(data['pwtime'].mean(),MACHINE)\n",
    "                                errWtime=np.array([meanWtime - minWtime, maxWtime - meanWtime])\n",
    "                                newres = pd.DataFrame([{'count':count, 'ctime':meanCtime, 'wtime':meanWtime, 'cerr':errCtime, 'werr':errWtime}])\n",
    "                                results[KEY] = pd.concat([results[KEY], newres], axis=0,ignore_index=True)\n",
    "\n",
    "def plot(KEYS, loff=0):\n",
    "    plt.figure()\n",
    "    fig, ax = plt.subplots()\n",
    "    for key in KEYS:\n",
    "#    ax.set_ylim(bottom=0)\n",
    "        ax.errorbar(results[key][\"count\"],results[key][\"ctime\"],\n",
    "                    yerr=np.array(results[key]['cerr'].tolist()).T,\n",
    "                    label=key+\"_CTIME\", marker='x')\n",
    "        ax.errorbar(results[key][\"count\"],results[key][\"wtime\"],\n",
    "                    yerr=np.array(results[key]['werr'].tolist()).T,\n",
    "                    label=key+\"_WTIME\", marker='o', linestyle=\"dotted\")\n",
    "#    plt.ylim(bottom=0)\n",
    "    # ax.set_yscale('log')\n",
    "    ax.set(xlabel='work count', ylabel='time in seconds')\n",
    "    plt.legend(bbox_to_anchor=(0,1.4+loff), loc='upper center', ncol=1)\n",
    "    plt.show()"
   ]
  },
  {
   "cell_type": "code",
   "execution_count": 16,
   "id": "6f66ad65-f115-4c5e-9456-075196a28240",
   "metadata": {
    "tags": []
   },
   "outputs": [],
   "source": [
    "processData(COUNTS=[3200, 6400, 12800, 25600, 51200])\n"
   ]
  },
  {
   "cell_type": "code",
   "execution_count": 17,
   "id": "d6a2a47e-66fc-40ae-8781-706442dc9eec",
   "metadata": {},
   "outputs": [
    {
     "ename": "KeyError",
     "evalue": "'don-3,17-NOPLOOP-LOCAL_WORK'",
     "output_type": "error",
     "traceback": [
      "\u001b[0;31m---------------------------------------------------------------------------\u001b[0m",
      "\u001b[0;31mKeyError\u001b[0m                                  Traceback (most recent call last)",
      "Cell \u001b[0;32mIn [17], line 1\u001b[0m\n\u001b[0;32m----> 1\u001b[0m \u001b[43mplot\u001b[49m\u001b[43m(\u001b[49m\u001b[43mloff\u001b[49m\u001b[38;5;241;43m=\u001b[39;49m\u001b[38;5;241;43m.6\u001b[39;49m\u001b[43m,\u001b[49m\u001b[43m \u001b[49m\u001b[43mKEYS\u001b[49m\u001b[38;5;241;43m=\u001b[39;49m\u001b[43m[\u001b[49m\u001b[38;5;124;43m'\u001b[39;49m\u001b[38;5;124;43mdon-3,17-NOPLOOP-LOCAL_WORK\u001b[39;49m\u001b[38;5;124;43m'\u001b[39;49m\u001b[43m,\u001b[49m\u001b[43m \u001b[49m\u001b[38;5;124;43m'\u001b[39;49m\u001b[38;5;124;43mdon-3,46-NOPLOOP-LOCAL_WORK\u001b[39;49m\u001b[38;5;124;43m'\u001b[39;49m\u001b[43m,\u001b[49m\u001b[43m \u001b[49m\u001b[38;5;124;43m'\u001b[39;49m\u001b[38;5;124;43mdon-7,17-NOPLOOP-LOCAL_WORK\u001b[39;49m\u001b[38;5;124;43m'\u001b[39;49m\u001b[43m,\u001b[49m\u001b[43m \u001b[49m\u001b[38;5;124;43m'\u001b[39;49m\u001b[38;5;124;43mdon-7,46-NOPLOOP-LOCAL_WORK\u001b[39;49m\u001b[38;5;124;43m'\u001b[39;49m\u001b[43m]\u001b[49m\u001b[43m)\u001b[49m\n",
      "Cell \u001b[0;32mIn [15], line 53\u001b[0m, in \u001b[0;36mplot\u001b[0;34m(KEYS, loff)\u001b[0m\n\u001b[1;32m     50\u001b[0m     fig, ax \u001b[38;5;241m=\u001b[39m plt\u001b[38;5;241m.\u001b[39msubplots()\n\u001b[1;32m     51\u001b[0m     \u001b[38;5;28;01mfor\u001b[39;00m key \u001b[38;5;129;01min\u001b[39;00m KEYS:\n\u001b[1;32m     52\u001b[0m \u001b[38;5;66;03m#    ax.set_ylim(bottom=0)\u001b[39;00m\n\u001b[0;32m---> 53\u001b[0m         ax\u001b[38;5;241m.\u001b[39merrorbar(\u001b[43mresults\u001b[49m\u001b[43m[\u001b[49m\u001b[43mkey\u001b[49m\u001b[43m]\u001b[49m[\u001b[38;5;124m\"\u001b[39m\u001b[38;5;124mcount\u001b[39m\u001b[38;5;124m\"\u001b[39m],results[key][\u001b[38;5;124m\"\u001b[39m\u001b[38;5;124mctime\u001b[39m\u001b[38;5;124m\"\u001b[39m],\n\u001b[1;32m     54\u001b[0m                     yerr\u001b[38;5;241m=\u001b[39mnp\u001b[38;5;241m.\u001b[39marray(results[key][\u001b[38;5;124m'\u001b[39m\u001b[38;5;124mcerr\u001b[39m\u001b[38;5;124m'\u001b[39m]\u001b[38;5;241m.\u001b[39mtolist())\u001b[38;5;241m.\u001b[39mT,\n\u001b[1;32m     55\u001b[0m                     label\u001b[38;5;241m=\u001b[39mkey\u001b[38;5;241m+\u001b[39m\u001b[38;5;124m\"\u001b[39m\u001b[38;5;124m_CTIME\u001b[39m\u001b[38;5;124m\"\u001b[39m, marker\u001b[38;5;241m=\u001b[39m\u001b[38;5;124m'\u001b[39m\u001b[38;5;124mx\u001b[39m\u001b[38;5;124m'\u001b[39m)\n\u001b[1;32m     56\u001b[0m         ax\u001b[38;5;241m.\u001b[39merrorbar(results[key][\u001b[38;5;124m\"\u001b[39m\u001b[38;5;124mcount\u001b[39m\u001b[38;5;124m\"\u001b[39m],results[key][\u001b[38;5;124m\"\u001b[39m\u001b[38;5;124mwtime\u001b[39m\u001b[38;5;124m\"\u001b[39m],\n\u001b[1;32m     57\u001b[0m                     yerr\u001b[38;5;241m=\u001b[39mnp\u001b[38;5;241m.\u001b[39marray(results[key][\u001b[38;5;124m'\u001b[39m\u001b[38;5;124mwerr\u001b[39m\u001b[38;5;124m'\u001b[39m]\u001b[38;5;241m.\u001b[39mtolist())\u001b[38;5;241m.\u001b[39mT,\n\u001b[1;32m     58\u001b[0m                     label\u001b[38;5;241m=\u001b[39mkey\u001b[38;5;241m+\u001b[39m\u001b[38;5;124m\"\u001b[39m\u001b[38;5;124m_WTIME\u001b[39m\u001b[38;5;124m\"\u001b[39m, marker\u001b[38;5;241m=\u001b[39m\u001b[38;5;124m'\u001b[39m\u001b[38;5;124mo\u001b[39m\u001b[38;5;124m'\u001b[39m, linestyle\u001b[38;5;241m=\u001b[39m\u001b[38;5;124m\"\u001b[39m\u001b[38;5;124mdotted\u001b[39m\u001b[38;5;124m\"\u001b[39m)\n\u001b[1;32m     59\u001b[0m \u001b[38;5;66;03m#    plt.ylim(bottom=0)\u001b[39;00m\n\u001b[1;32m     60\u001b[0m     \u001b[38;5;66;03m# ax.set_yscale('log')\u001b[39;00m\n",
      "\u001b[0;31mKeyError\u001b[0m: 'don-3,17-NOPLOOP-LOCAL_WORK'"
     ]
    },
    {
     "data": {
      "text/plain": [
       "<Figure size 640x480 with 0 Axes>"
      ]
     },
     "metadata": {},
     "output_type": "display_data"
    },
    {
     "data": {
      "image/png": "[encoded data removed]",
      "text/plain": [
       "<Figure size 640x480 with 1 Axes>"
      ]
     },
     "metadata": {},
     "output_type": "display_data"
    }
   ],
   "source": [
    "plot(loff=.6, KEYS=['fedora_i9-3,17-NOPLOOP-LOCAL_WORK', 'fedora_i9-3,46-NOPLOOP-LOCAL_WORK', 'fedora_i9-7,17-NOPLOOP-LOCAL_WORK', 'fedora_i9-7,46-NOPLOOP-LOCAL_WORK'])"
   ]
  },
  {
   "cell_type": "code",
   "execution_count": null,
   "id": "36eac8fd-e799-4548-967f-17a6b8706e12",
   "metadata": {},
   "outputs": [],
   "source": [
    "plot(KEYS=['don-3,17-4NOPLOOP-LOCAL_WORK'])"
   ]
  },
  {
   "cell_type": "code",
   "execution_count": null,
   "id": "61956fce-3c85-4d15-85ba-525f07d2c235",
   "metadata": {},
   "outputs": [],
   "source": [
    "plot(KEYS=['don-3,17-NULLLOOP-LOCAL_WORK', 'don-3,17-NOPLOOP-LOCAL_WORK', 'don-3,17-4NOPLOOP-LOCAL_WORK'])"
   ]
  },
  {
   "cell_type": "code",
   "execution_count": null,
   "id": "bf47a280-56c2-4a39-9ee5-56bf677b909e",
   "metadata": {},
   "outputs": [],
   "source": [
    "plot(['don-3,17-NOPLOOP-LOCAL_WORK','don-3,17-NOPLOOP-LOCAL_WORK_NO_SERVERTHREAD'])"
   ]
  },
  {
   "cell_type": "code",
   "execution_count": null,
   "id": "6cb804a4-a85c-4aa2-b6c6-43d3eb0e779c",
   "metadata": {},
   "outputs": [],
   "source": [
    "plot(['don-3,17-NOPLOOP-LOCAL_WORK', 'don-3,17-NOPLOOP-LOCAL_WORK_WITH_REMOTE_READ_SHARED'])"
   ]
  },
  {
   "cell_type": "code",
   "execution_count": null,
   "id": "bb1b9396-9c22-426f-8aa6-74474d82b03c",
   "metadata": {},
   "outputs": [],
   "source": [
    "plot(['don-3,17-NOPLOOP-LOCAL_WORK', 'don-3,17-NOPLOOP-REMOTE_WORK_READ_SHARED'])"
   ]
  },
  {
   "cell_type": "code",
   "execution_count": null,
   "id": "e085d157-90cc-4e6a-ab42-305e5f3316f3",
   "metadata": {},
   "outputs": [],
   "source": []
  },
  {
   "cell_type": "code",
   "execution_count": null,
   "id": "c92f699c-d327-4f85-a865-08cbd7667cec",
   "metadata": {},
   "outputs": [],
   "source": []
  }
 ],
 "metadata": {
  "kernelspec": {
   "display_name": "Python 3 (ipykernel)",
   "language": "python",
   "name": "python3"
  },
  "language_info": {
   "codemirror_mode": {
    "name": "ipython",
    "version": 3
   },
   "file_extension": ".py",
   "mimetype": "text/x-python",
   "name": "python",
   "nbconvert_exporter": "python",
   "pygments_lexer": "ipython3",
   "version": "3.10.8"
  }
 },
 "nbformat": 4,
 "nbformat_minor": 5
}
