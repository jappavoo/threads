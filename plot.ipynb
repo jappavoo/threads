{
 "cells": [
  {
   "cell_type": "code",
   "execution_count": null,
   "id": "8f6f776c-f632-4f93-a313-5340a8d9803c",
   "metadata": {
    "tags": []
   },
   "outputs": [],
   "source": [
    "import os.path\n",
    "import matplotlib.pyplot as plt\n",
    "import pandas as pd\n",
    "import numpy as np\n",
    "%matplotlib inline\n",
    "pd.set_option(\"display.max.columns\", None)"
   ]
  },
  {
   "cell_type": "code",
   "execution_count": null,
   "id": "5b1404f6-3fc0-4a78-a776-cb56b3be3b0f",
   "metadata": {
    "tags": []
   },
   "outputs": [],
   "source": [
    "# TSC Value obtained with: sudo bpftrace -e 'BEGIN { printf(\"%u\\n\", *kaddr(\"tsc_khz\")); exit(); }\n",
    "TSC={}\n",
    "TSC[\"don\"]=2599950\n",
    "TSC[\"fedora_i9\"]=2400023\n",
    "# time_seconds = (tsc_count_end - tsc_count_start) * 1.0/(tsc_frequency * 1000)\n",
    "results = {}\n",
    "\n",
    "\n",
    "# time in seconds\n",
    "def time(value,m):\n",
    "    return value * (1.0/(TSC[m]*1000))\n",
    "\n",
    "def processData(WORK=[\"NULLLOOP\", \"NOPLOOP\", \"4NOPLOOP\"], \n",
    "                CPU0S=[0,1,3,5], CPU1S=[3,7,17,46], \n",
    "                MACHINES=[\"don\", \"fedora_i9\"], \n",
    "                DATES=[\"current\"], \n",
    "                TYPES=[\"LOCAL_WORK\", \"LOCAL_WORK_NO_SERVERTHREAD\",\"LOCAL_WORK_WITH_REMOTE_READ_SHARED\",\n",
    "                       \"LOCAL_WORK_WITH_REMOTE_RW_SHARED\",\"REMOTE_WORK_READ_SHARED\",\"REMOTE_WORK_RW_SHARED\"],\n",
    "                COUNTS=[100, 200, 400, 800, 1600, 3200, 6400, 12800, 25600, 51200, 102400],\n",
    "                VERBOSE=False):\n",
    "    for W in WORK:\n",
    "        for CPU0 in CPU0S:\n",
    "            for CPU1 in CPU1S:\n",
    "                for MACHINE in MACHINES:\n",
    "                    for DATE in DATES:\n",
    "                        for TYPE in TYPES:\n",
    "                            KEY=MACHINE+\"-\"+str(CPU0)+\",\"+str(CPU1)+\"-\"+W+\"-\"+TYPE\n",
    "                            results[KEY] =  pd.DataFrame(columns=['count','ctime','wtime','cerr','werr'])\n",
    "                            for COUNT in COUNTS:\n",
    "                                FILE=\"data/\"+MACHINE+\"/\"+DATE+\"/bm.\"+W+\"_\"+TYPE+\"_\"+str(COUNT)+\"_\"+str(CPU0)+\"_\"+str(CPU1)+\".times\"\n",
    "                                if os.path.exists(FILE):\n",
    "                                    if VERBOSE:\n",
    "                                        print(\"processing:\" + FILE)\n",
    "                                    data=pd.read_csv(FILE)\n",
    "                                    count=data['count'][0]\n",
    "                                    cpu0=data['cpu0'][0]\n",
    "                                    cpu1=data['cpu1'][0]\n",
    "                                    data['pctime']=time(data['ctime']/count, MACHINE)\n",
    "                                    data['pwtime']=time(data['wtime']/count, MACHINE)\n",
    "                                    minCtime=time(data['pctime'].min(), MACHINE)\n",
    "                                    maxCtime=time(data['pctime'].max(), MACHINE)\n",
    "                                    meanCtime=time(data['pctime'].mean(), MACHINE)\n",
    "                                    errCtime=np.array([meanCtime - minCtime, maxCtime - meanCtime])\n",
    "                                    minWtime=time(data['pwtime'].min(),MACHINE)\n",
    "                                    maxWtime=time(data['pwtime'].max(),MACHINE)\n",
    "                                    meanWtime=time(data['pwtime'].mean(),MACHINE)\n",
    "                                    errWtime=np.array([meanWtime - minWtime, maxWtime - meanWtime])\n",
    "                                    newres = pd.DataFrame([{'count':count, 'ctime':meanCtime, 'wtime':meanWtime, 'cerr':errCtime, 'werr':errWtime}])\n",
    "                                    results[KEY] = pd.concat([results[KEY], newres], axis=0,ignore_index=True)\n",
    "\n",
    "def plot(KEYS, loff=0):\n",
    "    plt.figure()\n",
    "    fig, ax = plt.subplots()\n",
    "    for key in KEYS:\n",
    "#    ax.set_ylim(bottom=0)\n",
    "        ax.errorbar(results[key][\"count\"],results[key][\"ctime\"],\n",
    "                    yerr=np.array(results[key]['cerr'].tolist()).T,\n",
    "                    label=key+\"_CTIME\", marker='x')\n",
    "        ax.errorbar(results[key][\"count\"],results[key][\"wtime\"],\n",
    "                    yerr=np.array(results[key]['werr'].tolist()).T,\n",
    "                    label=key+\"_WTIME\", marker='o', linestyle=\"dotted\")\n",
    "#    plt.ylim(bottom=0)\n",
    "    # ax.set_yscale('log')\n",
    "    ax.set(xlabel='work count', ylabel='time in seconds')\n",
    "    plt.legend(bbox_to_anchor=(0,1.4+loff), loc='upper center', ncol=1)\n",
    "    plt.show()"
   ]
  },
  {
   "cell_type": "code",
   "execution_count": null,
   "id": "9e3e19c7-f314-4fcb-8a68-fa43a2f03af2",
   "metadata": {
    "tags": []
   },
   "outputs": [],
   "source": [
    "processData()"
   ]
  },
  {
   "cell_type": "code",
   "execution_count": null,
   "id": "0c0a73f2-c211-4de3-91e6-5b77d41e5a19",
   "metadata": {},
   "outputs": [],
   "source": [
    "cores={}\n",
    "machines=[\"don\", \"fedora_i9\"]\n",
    "cores[\"don\"]=\"3,17\"\n",
    "cores[\"fedora_i9\"]=\"1,7\""
   ]
  },
  {
   "cell_type": "code",
   "execution_count": null,
   "id": "624b84c7-9538-4953-928d-fb5abef90f1a",
   "metadata": {
    "tags": []
   },
   "outputs": [],
   "source": [
    "plot(loff=.4, KEYS=['don-3,17-NOPLOOP-LOCAL_WORK', 'don-3,46-NOPLOOP-LOCAL_WORK', 'don-5,17-NOPLOOP-LOCAL_WORK', 'don-5,46-NOPLOOP-LOCAL_WORK'])\n",
    "plot(loff=.4, KEYS=['fedora_i9-0,3-NOPLOOP-LOCAL_WORK', 'fedora_i9-0,7-NOPLOOP-LOCAL_WORK', 'fedora_i9-1,3-NOPLOOP-LOCAL_WORK', 'fedora_i9-1,7-NOPLOOP-LOCAL_WORK'])"
   ]
  },
  {
   "cell_type": "markdown",
   "id": "2ca0e6e9-e972-4307-8225-bcb15b85ac1f",
   "metadata": {},
   "source": [
    "Based on the above core pairs seem stable and equivalent\n"
   ]
  },
  {
   "cell_type": "code",
   "execution_count": null,
   "id": "62903d8c-2221-4ae1-bd59-5f004e56ec7e",
   "metadata": {
    "tags": []
   },
   "outputs": [],
   "source": [
    "for m in machines:\n",
    "    plot(KEYS=[m+'-'+cores[m]+'-NOPLOOP-LOCAL_WORK', m+'-'+cores[m]+'-NOPLOOP-LOCAL_WORK_NO_SERVERTHREAD'])\n",
    "for m in machines:\n",
    "    plot(loff=.4,KEYS=[m+'-'+cores[m]+'-NOPLOOP-LOCAL_WORK', m+'-'+cores[m]+'-NOPLOOP-LOCAL_WORK_WITH_REMOTE_READ_SHARED', m+'-'+cores[m]+'-NOPLOOP-REMOTE_WORK_READ_SHARED'])"
   ]
  },
  {
   "cell_type": "markdown",
   "id": "00ba0265-a0e6-4b83-90f1-8665d8e4d988",
   "metadata": {},
   "source": [
    "## Ignore smaller counts\n",
    "\n",
    "there seems to be a lot of noise when the process runs for a too short a time ... we focus on the larger counts.... we would expect the timer to suffer more noise at very large counts as interrupts and scheduling events will perturb TSC values"
   ]
  },
  {
   "cell_type": "code",
   "execution_count": null,
   "id": "92f28fc9-9b8e-423e-9051-59a2407eeb11",
   "metadata": {},
   "outputs": [],
   "source": [
    "# reprocess results for only the large stable counts\n",
    "processData(COUNTS=[12800, 25600, 102400])"
   ]
  },
  {
   "cell_type": "code",
   "execution_count": null,
   "id": "f033e505-ced6-41a4-8db2-aaaf2350dc09",
   "metadata": {},
   "outputs": [],
   "source": [
    "plot(loff=.6, KEYS=['don-3,17-NOPLOOP-LOCAL_WORK', 'don-3,46-NOPLOOP-LOCAL_WORK', 'don-5,17-NOPLOOP-LOCAL_WORK', 'don-5,46-NOPLOOP-LOCAL_WORK'])\n",
    "plot(loff=.6, KEYS=['fedora_i9-0,7-NOPLOOP-LOCAL_WORK', 'fedora_i9-0,3-NOPLOOP-LOCAL_WORK', 'fedora_i9-1,7-NOPLOOP-LOCAL_WORK', 'fedora_i9-1,3-NOPLOOP-LOCAL_WORK'])"
   ]
  },
  {
   "cell_type": "code",
   "execution_count": null,
   "id": "36eac8fd-e799-4548-967f-17a6b8706e12",
   "metadata": {},
   "outputs": [],
   "source": [
    "for m in machines:\n",
    "    plot(KEYS=[m+'-'+cores[m]+'-4NOPLOOP-LOCAL_WORK'])"
   ]
  },
  {
   "cell_type": "code",
   "execution_count": null,
   "id": "61956fce-3c85-4d15-85ba-525f07d2c235",
   "metadata": {},
   "outputs": [],
   "source": [
    "for m in machines:\n",
    "    plot(KEYS=[m+'-'+cores[m]+'-NULLLOOP-LOCAL_WORK', m+'-'+cores[m]+'-NOPLOOP-LOCAL_WORK', m+'-'+cores[m]+'-4NOPLOOP-LOCAL_WORK'], loff=0.2)"
   ]
  },
  {
   "cell_type": "code",
   "execution_count": null,
   "id": "bf47a280-56c2-4a39-9ee5-56bf677b909e",
   "metadata": {},
   "outputs": [],
   "source": [
    "for m in machines:\n",
    "    plot([m+'-'+cores[m]+'-NOPLOOP-LOCAL_WORK',m+'-'+cores[m]+'-NOPLOOP-LOCAL_WORK_NO_SERVERTHREAD'])"
   ]
  },
  {
   "cell_type": "code",
   "execution_count": null,
   "id": "6cb804a4-a85c-4aa2-b6c6-43d3eb0e779c",
   "metadata": {},
   "outputs": [],
   "source": [
    "for m in machines:\n",
    "    plot([m+'-'+cores[m]+'-NOPLOOP-LOCAL_WORK', m+'-'+cores[m]+'-NOPLOOP-LOCAL_WORK_WITH_REMOTE_READ_SHARED'])"
   ]
  },
  {
   "cell_type": "code",
   "execution_count": null,
   "id": "bb1b9396-9c22-426f-8aa6-74474d82b03c",
   "metadata": {},
   "outputs": [],
   "source": [
    "for m in machines:\n",
    "    plot([m+'-'+cores[m]+'-NOPLOOP-LOCAL_WORK',  m+'-'+cores[m]+'-NOPLOOP-REMOTE_WORK_READ_SHARED'], loff=0.2)"
   ]
  },
  {
   "cell_type": "code",
   "execution_count": null,
   "id": "f3c8909d-2ce3-4f30-bf2a-5f4d85a0f066",
   "metadata": {},
   "outputs": [],
   "source": [
    "plot([\n",
    "        'don'+'-'+cores['don']+'-NOPLOOP-LOCAL_WORK',  'don'+'-'+cores['don']+'-NOPLOOP-REMOTE_WORK_READ_SHARED',\n",
    "        'fedora_i9'+'-'+cores['fedora_i9']+'-NOPLOOP-LOCAL_WORK',  'fedora_i9'+'-'+cores['fedora_i9']+'-NOPLOOP-REMOTE_WORK_READ_SHARED'\n",
    "     ], loff=0.29)"
   ]
  },
  {
   "cell_type": "code",
   "execution_count": null,
   "id": "3c602d47-9d3a-4b2b-93cd-44adfb24095f",
   "metadata": {},
   "outputs": [],
   "source": []
  }
 ],
 "metadata": {
  "kernelspec": {
   "display_name": "Python 3 (ipykernel)",
   "language": "python",
   "name": "python3"
  },
  "language_info": {
   "codemirror_mode": {
    "name": "ipython",
    "version": 3
   },
   "file_extension": ".py",
   "mimetype": "text/x-python",
   "name": "python",
   "nbconvert_exporter": "python",
   "pygments_lexer": "ipython3",
   "version": "3.10.5"
  }
 },
 "nbformat": 4,
 "nbformat_minor": 5
}
